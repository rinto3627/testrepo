{
 "cells": [
  {
   "cell_type": "code",
   "execution_count": 1,
   "metadata": {
    "scrolled": true
   },
   "outputs": [
    {
     "name": "stdout",
     "output_type": "stream",
     "text": [
      "Enter Score: 0.5\n",
      "Your entered value is: 0.5\n",
      "F\n"
     ]
    }
   ],
   "source": [
    "score = input(\"Enter Score: \")\n",
    "try:\n",
    "    score = float(score)\n",
    "except:\n",
    "    print(\"Please enter a numeric value\")\n",
    "    quit()\n",
    "print(\"Your entered value is:\",score)\n",
    "if score >= 0 and score <= 1 :\n",
    "    if score >= 0.9 :\n",
    "        print(\"A\")\n",
    "    elif score >= 0.8 :\n",
    "        print(\"B\")\n",
    "    elif score >= 0.7 :\n",
    "        print(\"C\")\n",
    "    elif score >= 0.6 :\n",
    "        print(\"D\")\n",
    "    else :\n",
    "        print(\"F\")\n",
    "else :\n",
    "    print(\"Error: You have entered an invalid number..!!\")"
   ]
  },
  {
   "cell_type": "markdown",
   "metadata": {},
   "source": [
    "# Building Funtion"
   ]
  },
  {
   "cell_type": "code",
   "execution_count": 3,
   "metadata": {},
   "outputs": [
    {
     "name": "stdout",
     "output_type": "stream",
     "text": [
      "Enter your first name: Rinto\n",
      "Enter your last name: Barua\n",
      "Your entered value is: Rinto Barua\n"
     ]
    }
   ],
   "source": [
    "def rinto(str1, str2):\n",
    "    print('Your entered value is:', str1, str2)\n",
    "\n",
    "fname = input('Enter your first name: ')\n",
    "lname = input('Enter your last name: ')\n",
    "\n",
    "rinto(fname, lname)"
   ]
  },
  {
   "cell_type": "code",
   "execution_count": 2,
   "metadata": {},
   "outputs": [
    {
     "name": "stdout",
     "output_type": "stream",
     "text": [
      "Serial: 1\n",
      "Serial: 2\n",
      "Serial: 3\n",
      "Serial: 4\n"
     ]
    }
   ],
   "source": [
    "i = 1\n",
    "while i < 5:\n",
    "    print('Serial:', i)\n",
    "    i = i + 1"
   ]
  },
  {
   "cell_type": "code",
   "execution_count": null,
   "metadata": {},
   "outputs": [],
   "source": []
  }
 ],
 "metadata": {
  "kernelspec": {
   "display_name": "Python 3",
   "language": "python",
   "name": "python3"
  },
  "language_info": {
   "codemirror_mode": {
    "name": "ipython",
    "version": 3
   },
   "file_extension": ".py",
   "mimetype": "text/x-python",
   "name": "python",
   "nbconvert_exporter": "python",
   "pygments_lexer": "ipython3",
   "version": "3.7.4"
  }
 },
 "nbformat": 4,
 "nbformat_minor": 2
}
